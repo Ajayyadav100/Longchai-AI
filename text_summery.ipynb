{
  "nbformat": 4,
  "nbformat_minor": 0,
  "metadata": {
    "colab": {
      "provenance": [],
      "authorship_tag": "ABX9TyPJqZhMK6F86yqi5Ev5lvpV",
      "include_colab_link": true
    },
    "kernelspec": {
      "name": "python3",
      "display_name": "Python 3"
    },
    "language_info": {
      "name": "python"
    }
  },
  "cells": [
    {
      "cell_type": "markdown",
      "metadata": {
        "id": "view-in-github",
        "colab_type": "text"
      },
      "source": [
        "<a href=\"https://colab.research.google.com/github/Ajayyadav100/Longchai-AI/blob/main/text_summery.ipynb\" target=\"_parent\"><img src=\"https://colab.research.google.com/assets/colab-badge.svg\" alt=\"Open In Colab\"/></a>"
      ]
    },
    {
      "cell_type": "markdown",
      "source": [
        "### Running Dependencies"
      ],
      "metadata": {
        "id": "7P-70Gfqkslx"
      }
    },
    {
      "cell_type": "code",
      "execution_count": null,
      "metadata": {
        "id": "8Ldd4SY2jTyU"
      },
      "outputs": [],
      "source": [
        "!pip install transformers sentencepiece pyMuPDF -q"
      ]
    },
    {
      "cell_type": "markdown",
      "source": [
        "###Pre-Trained Run Model LLM"
      ],
      "metadata": {
        "id": "QhUJXuIKlACP"
      }
    },
    {
      "cell_type": "code",
      "source": [
        "from transformers import T5Tokenizer, T5ForConditionalGeneration\n",
        "import torch\n",
        "import fitz"
      ],
      "metadata": {
        "id": "5ifpy3knjj1E"
      },
      "execution_count": null,
      "outputs": []
    },
    {
      "cell_type": "markdown",
      "source": [
        "###Loading L5 and T5-small llm model"
      ],
      "metadata": {
        "id": "gqUqzqCslK_j"
      }
    },
    {
      "cell_type": "code",
      "source": [
        "model_name=\"t5-small\"\n",
        "tokenizer = T5Tokenizer.from_pretrained(model_name)\n",
        "model = T5ForConditionalGeneration.from_pretrained(model_name)"
      ],
      "metadata": {
        "id": "RyLzCcU9kPff"
      },
      "execution_count": null,
      "outputs": []
    },
    {
      "cell_type": "code",
      "source": [
        "def summarize(text, max_input_length=512, max_output_length=150):\n",
        "    input_text = \"summarize: \" + text.strip().replace(\"\\n\", \"\")\n",
        "    input_ids = tokenizer.encode(input_text, return_tensors=\"pt\", max_length=max_input_length, truncation=True)\n",
        "\n",
        "    summery_ids= model.generate(\n",
        "        input_ids,\n",
        "        max_length=max_output_length,\n",
        "        min_length=30,\n",
        "        length_penalty=2.0,\n",
        "        num_beams=4,\n",
        "        early_stopping=True\n",
        "    )\n",
        "    summery=tokenizer.decode(summery_ids[0], skip_special_tokens=True)\n",
        "    return summery"
      ],
      "metadata": {
        "id": "J1UbUIpBmimT"
      },
      "execution_count": null,
      "outputs": []
    },
    {
      "cell_type": "code",
      "source": [
        "## for pdf input\n",
        "def extract_pdf_text(pdf_file):\n",
        "  #open the pdf\n",
        "  doc=fitz.open(pdf_file)#fitz will help for read-write pdf\n",
        "  pdf_text=\"\" #to avoid space\n",
        "\n",
        "\n",
        "   # give loop for next line  , line+++++\n",
        "  for page_num in range(doc.page_count):\n",
        "    page=doc[page_num]\n",
        "    pdf_text+=page.get_text() # to take multi page no\n",
        "  return pdf_text"
      ],
      "metadata": {
        "id": "HUlPD_snnt2V"
      },
      "execution_count": null,
      "outputs": []
    },
    {
      "cell_type": "code",
      "source": [
        "\n",
        "# User Interfce for input\n",
        "def get_user_input_option():\n",
        "  print(\"\\n choose one of the following options :\")\n",
        "  print(\"1. upload PDF file\")\n",
        "  print(\"2.Enter text manually\")\n",
        "  choice = input(\"Enter 1 or 2 :\")\n",
        "\n",
        "  return choice"
      ],
      "metadata": {
        "id": "gpFo9tszqkRa"
      },
      "execution_count": null,
      "outputs": []
    },
    {
      "cell_type": "code",
      "source": [
        "choice = get_user_input_option()\n",
        "#Opt 1\n",
        "if choice =='1':\n",
        "  from google.colab import files\n",
        "  uploaded = files.upload()\n",
        "\n",
        "  if uploaded:\n",
        "    pdf_file_name = list(uploaded.keys())[0]\n",
        "    print(f\"\\n PDF uploaded:{pdf_file_name}\")\n",
        "\n",
        "    # Extract text from PDF\n",
        "    extracted_text = extract_pdf_text(pdf_file_name)\n",
        "    if len(extracted_text) > 0:\n",
        "      print(\"\\nSummmerizing The pdf........\\n\")\n",
        "      summery = summerize(extracted_text)\n",
        "      print(\"Summery of the pdf:\\n\")\n",
        "      print(summery)\n",
        "    else:\n",
        "      print(\"No text extracted from the pdf. Ensure it has text\")\n",
        "  else:\n",
        "    print(\"No pdf file uploaded. Please upload pdf file\")\n",
        "\n",
        "# Option 2 manual text\n",
        "elif choice == '2':\n",
        "  print(\"\\npaste or type your input here:\")\n",
        "  user_input=input(\"Enter the text here:\\n\")\n",
        "  if user_input.strip():\n",
        "    summery = summerize(user_input)\n",
        "    print(\"Summery of the text:\\n\")\n",
        "    print(summery)\n",
        "  else:\n",
        "    print(\"Not text provided. pls enter text\")\n",
        "else:\n",
        "  print(\"Invalid choice. Please restart and select choice\")"
      ],
      "metadata": {
        "colab": {
          "base_uri": "https://localhost:8080/"
        },
        "id": "TWi7RXvCto3b",
        "outputId": "8b6a0346-c6f3-40e0-fc20-dea30c37c007"
      },
      "execution_count": null,
      "outputs": [
        {
          "output_type": "stream",
          "name": "stdout",
          "text": [
            "\n",
            " choose one of the following options :\n",
            "1. upload PDF file\n",
            "2.Enter text manually\n",
            "Enter 1 or 2 :Narendra Damodardas Modi[a] (born 17 September 1950) is an Indian politician who has served as the prime minister of India since 2014. Modi was the chief minister of Gujarat from 2001 to 2014 and is the member of parliament (MP) for Varanasi. He is a member of the Bharatiya Janata Party (BJP) and of the Rashtriya Swayamsevak Sangh (RSS), a far-right Hindutva paramilitary volunteer organisation. He is the longest-serving prime minister outside the Indian National Congress.  Modi was born and raised in Vadnagar, Bombay State (present-day Gujarat), where he completed his secondary education. He was introduced to the RSS at the age of eight, becoming a full-time worker for the organisation in Gujarat in 1971. The RSS assigned him to the BJP in 1985, and he rose through the party hierarchy, becoming general secretary in 1998.[b] In 2001, Modi was appointed chief minister of Gujarat and elected to the legislative assembly soon after. His administration is considered complicit in the 2002 Gujarat riots[c] and has been criticised for its management of the crisis. According to official records, a little over 1,000 people were killed, three-quarters of whom were Muslim; independent sources estimated 2,000 deaths, mostly Muslim.[4] A Special Investigation Team appointed by the Supreme Court of India in 2012 found no evidence to initiate prosecution proceedings against him.[d] While his policies as chief minister were credited for encouraging economic growth, his administration was criticised for failing to significantly improve health, poverty and education indices in the state.[e]  In the 2014 Indian general election, Modi led the BJP to a parliamentary majority, the first for a party since 1984. His administration increased direct foreign investment and reduced spending on healthcare, education, and social-welfare programs. Modi began a high-profile sanitation campaign and weakened or abolished environmental and labour laws. His demonetisation of banknotes in 2016 and introduction of the Goods and Services Tax in 2017 sparked controversy. Modi's administration launched the 2019 Balakot airstrike against an alleged terrorist training camp in Pakistan; the airstrike failed,[5][6] but the action had nationalist appeal.[7] Modi's party won the 2019 general election which followed. In its second term, his administration revoked the special status of Jammu and Kashmir and introduced the Citizenship Amendment Act, prompting widespread protests and spurring the 2020 Delhi riots in which Muslims were brutalised and killed by Hindu mobs.[8][9][10] Three controversial farm laws led to sit-ins by farmers across the country, eventually causing their formal repeal. Modi oversaw India's response to the COVID-19 pandemic, during which, according to the World Health Organization, 4.7 million Indians died.[11][12] In the 2024 general election, Modi's party lost its majority in the lower house of Parliament and formed a government leading the National Democratic Alliance coalition. Following a terrorist attack in Indian-administered Jammu and Kashmir, Modi presided over the 2025 India–Pakistan conflict, which resulted in a ceasefire.  Under Modi's tenure, India has experienced democratic backsliding and has shifted towards an authoritarian style of government, with a cult of personality centred around him.[f] As prime minister, he has received consistently high approval ratings within India. Modi has been described as engineering a political realignment towards right-wing politics. He remains a highly controversial figure domestically and internationally over his Hindu nationalist beliefs and handling of the Gujarat riots, which have been cited as evidence of a majoritarian and exclusionary social agenda.[g]  Early life and education Narendra Damodardas Modi was born on 17 September 1950 to a Gujarati family of Other Backward Class (OBC) background and Hindu faith[13][14] in Vadnagar, Mehsana district, Bombay State (present-day Gujarat). He was the third of six children born to Damodardas Mulchand Modi (c. 1915–1989) and Hiraben Modi (1923–2022).[15][h][16] According to Modi and his neighbours, he worked infrequently in his father's tea stall in the Vadnagar railway station.[17][18][19]  Modi completed his higher secondary education in Vadnagar in 1967; his teachers described him as an average student and a keen, gifted debater with an interest in theatre.[20] He preferred playing larger-than-life characters in theatrical productions, which has influenced his political image.[21][22]  When Modi was eight years old, he was introduced to the Rashtriya Swayamsevak Sangh (RSS) and began attending its local shakhas (training sessions). There, he met Lakshmanrao Inamdar, who inducted Modi as a balswayamsevak (junior cadet) in the RSS and became his political mentor.[23] While Modi was training with the RSS, he also met Vasant Gajendragadkar and Nathalal Jaghda, Bharatiya Jana Sangh leaders who in 1980 helped found the BJP's Gujarat unit.[24] As a teenager, he was enrolled in the National Cadet Corps.[25]  In a custom traditional to Narendra Modi's caste, his family arranged a betrothal to Jashodaben Chimanlal Modi, leading to their marriage when she was 17 and he was 18.[26][27] Soon afterwards, he abandoned his wife,[28] and left home. The couple never divorced but the marriage was not in his public pronouncements for many decades.[27] In April 2014, shortly before the national election in which he gained power, Modi publicly affirmed he was married and that his spouse was Jashodaben.[29] A Modi biographer wrote that Modi kept the marriage a secret because he would not have been able to become a pracharak in the RSS, for which celibacy had once been a requirement.[30][31]\n",
            "Invalid choice. Please restart and select choice\n"
          ]
        }
      ]
    },
    {
      "cell_type": "code",
      "source": [],
      "metadata": {
        "id": "MUC-PsUMxTH-"
      },
      "execution_count": null,
      "outputs": []
    }
  ]
}